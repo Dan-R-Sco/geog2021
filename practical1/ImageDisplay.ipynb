{
 "metadata": {
  "name": "",
  "signature": "sha256:67f6c59135d9fad90bc275a07019ac0e7af5e8879d7ccacaca595c49b282abf9"
 },
 "nbformat": 3,
 "nbformat_minor": 0,
 "worksheets": [
  {
   "cells": [
    {
     "cell_type": "heading",
     "level": 1,
     "metadata": {},
     "source": [
      "Image Display and Enhancement using ENVI 5.2"
     ]
    },
    {
     "cell_type": "markdown",
     "metadata": {},
     "source": [
      "Prof. P. Lewis & Dr. M. Disney\n",
      "\n",
      "Remote Sensing Unit\n",
      "\n",
      "Dept. Geography\n",
      "\n",
      "UCL"
     ]
    },
    {
     "cell_type": "heading",
     "level": 2,
     "metadata": {},
     "source": [
      "Aims"
     ]
    },
    {
     "cell_type": "markdown",
     "metadata": {},
     "source": [
      " After completing this practical, you should have a reasonable idea of a range of basic functions within an image processing software, envi. You should also have started to make some sense of how the theory you are learning in the lectures can be used to manipulate image data."
     ]
    },
    {
     "cell_type": "heading",
     "level": 2,
     "metadata": {},
     "source": [
      " Introduction"
     ]
    },
    {
     "cell_type": "markdown",
     "metadata": {},
     "source": [
      " The purpose of this practical is for you to gain experience in image display and enhancement of EO data. The session will be normally run as two two hour supervised practical. You may not complete all tasks in detail in that time, so once you get the hang of how to use the tool, move on to the next section and return later to think more about the remote sensing. \n",
      "\n",
      "If you are doing this exercise in the departmental UNIX lab, you will be using a UNIX workstation, and [may find knowledge of some basic UNnix useful](BasicUnixFileMgr). These notes are not intended to be a comprehensive introduction to ENVI functionality. They serve as an introduction to remote sensing and image processing, presuming no prior knowedge. Further information on envi tools and fuctions can be found in the on-line help pages. "
     ]
    },
    {
     "cell_type": "code",
     "collapsed": false,
     "input": [
      "# Some setup items for these notes\n",
      "try:\n",
      "  %install_ext https://raw.github.com/ebellm/ipython-idlmagic/master/idlmagic.py\n",
      "  %reload_ext idlmagic\n",
      "except:\n",
      "  !pip install --upgrade pidly\n",
      "  %install_ext https://raw.github.com/ebellm/ipython-idlmagic/master/idlmagic.py\n",
      "  %reload_ext idlmagic\n",
      "# Test IDL  \n",
      "%idl print, findgen(5)"
     ],
     "language": "python",
     "metadata": {},
     "outputs": [
      {
       "output_type": "stream",
       "stream": "stdout",
       "text": [
        "Installed idlmagic.py. To use it, type:\n",
        "  %load_ext idlmagic\n"
       ]
      },
      {
       "metadata": {},
       "output_type": "display_data",
       "text": [
        "      0.00000      1.00000      2.00000      3.00000      4.00000"
       ]
      }
     ],
     "prompt_number": 5
    },
    {
     "cell_type": "code",
     "collapsed": false,
     "input": [
      "%%bash\n",
      "\n",
      "envi"
     ],
     "language": "python",
     "metadata": {},
     "outputs": [
      {
       "output_type": "stream",
       "stream": "stderr",
       "text": [
        "bash: line 2: envi: command not found\n"
       ]
      }
     ],
     "prompt_number": 8
    },
    {
     "cell_type": "code",
     "collapsed": false,
     "input": [],
     "language": "python",
     "metadata": {},
     "outputs": []
    }
   ],
   "metadata": {}
  }
 ]
}