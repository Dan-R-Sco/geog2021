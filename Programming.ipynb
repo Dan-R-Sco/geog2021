{
 "metadata": {
  "name": "",
  "signature": "sha256:b3ad441668d81216a3eabad78ac1364e759dd0bdc1e1eb63f478a7cba047e746"
 },
 "nbformat": 3,
 "nbformat_minor": 0,
 "worksheets": [
  {
   "cells": [
    {
     "cell_type": "heading",
     "level": 1,
     "metadata": {},
     "source": [
      "Programming"
     ]
    },
    {
     "cell_type": "markdown",
     "metadata": {},
     "source": [
      "The ENVI application is written in a language called IDL.\n",
      "\n",
      "You can use this to automate various tasks.\n",
      "\n",
      "As a first example, let's load an image from the command prompt, following the [envi help pages example](http://www.exelisvis.com/docs/programmingguidegettingstarted.html).\n",
      "\n",
      "Having started `ENVI`, you should see an `ENVI` prompt:"
     ]
    },
    {
     "cell_type": "markdown",
     "metadata": {},
     "source": [
      "    ENVI> "
     ]
    },
    {
     "cell_type": "markdown",
     "metadata": {},
     "source": [
      "At the `ENVI` prompt, type:\n",
      "\n",
      "    ENVI> here = getenv('PWD')\n",
      "    ENVI> e = ENVI(/CURRENT)     \n",
      "    ENVI> File = FILEPATH('ETM-190600',Subdir=['data'], Root_Dir=here)\n",
      "    ENVI> Raster = e.OpenRaster(File)\n",
      "    ENVI> View = e.GetView()\n",
      "    ENVI> Layer = View.CreateLayer(Raster)\n",
      "    ENVI> View.Zoom, /FULL_EXTENT\n",
      "    ENVI> data = raster.GetData(BANDS=[1,2,3], SUB_RECT=[100,449,550,899])\n"
     ]
    },
    {
     "cell_type": "markdown",
     "metadata": {},
     "source": [
      "Explaining that:\n",
      "    \n",
      "Set a variable called `here` to be the current directory (i.e. where we started from). In fact, this needs to be the directory where the data are in this case.\n",
      "    \n",
      "    ENVI> here = getenv('PWD')\n",
      "\n",
      "Now connect to the `ENVI` windowing session and return the variable `e` that contains information on that session.\n",
      "    \n",
      "    ENVI> e = ENVI(/CURRENT)     \n",
      "    \n",
      "Soecify the full pathname of the raster file we want to load. \n",
      "\n",
      "    ENVI> File = FILEPATH('ETM-190600',Subdir=['data'], Root_Dir=here)\n",
      "  \n",
      "Load the raseter dataset into ENVI.\n",
      "\n",
      "    ENVI> raster = e.OpenRaster(file)\n",
      "    \n",
      "Create a 'layer' and display the inage.\n",
      "\n",
      "    ENVI> View = e.GetView()\n",
      "    ENVI> Layer = View.CreateLayer(Raster)\n",
      "    ENVI> View.Zoom, /FULL_EXTENT\n",
      "    \n",
      "In this last command, we load bands 1 2 and 3 into the array `data`"
     ]
    },
    {
     "cell_type": "code",
     "collapsed": false,
     "input": [],
     "language": "python",
     "metadata": {},
     "outputs": []
    }
   ],
   "metadata": {}
  }
 ]
}