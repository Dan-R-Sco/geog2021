{
 "metadata": {
  "name": "",
  "signature": "sha256:dbc0b56bd4a8f318ebf3cf1eda69f36f18b313564370743aa029c3f51b72188e"
 },
 "nbformat": 3,
 "nbformat_minor": 0,
 "worksheets": [
  {
   "cells": [
    {
     "cell_type": "markdown",
     "metadata": {},
     "source": [
      "<img style=\"float: left\" src=\"images/ucl_logo.png\">\n"
     ]
    },
    {
     "cell_type": "heading",
     "level": 1,
     "metadata": {},
     "source": [
      "Image Display and Enhancement using ENVI 5.2"
     ]
    },
    {
     "cell_type": "markdown",
     "metadata": {},
     "source": [
      "Prof. P. Lewis & Dr. M. Disney\n",
      "\n",
      "Remote Sensing Unit\n",
      "\n",
      "Dept. Geography\n",
      "\n",
      "UCL"
     ]
    },
    {
     "cell_type": "heading",
     "level": 2,
     "metadata": {},
     "source": [
      "Aims"
     ]
    },
    {
     "cell_type": "markdown",
     "metadata": {},
     "source": [
      " After completing this practical, you should have a reasonable idea of a range of basic functions within an image processing software, envi. You should also have started to make some sense of how the theory you are learning in the lectures can be used to manipulate image data."
     ]
    },
    {
     "cell_type": "heading",
     "level": 2,
     "metadata": {},
     "source": [
      "Contents"
     ]
    },
    {
     "cell_type": "markdown",
     "metadata": {},
     "source": [
      "[[top](#Image-Display-and-Enhancement-using-ENVI-5.2)]\n",
      "[[Introduction](#1.-Introduction)]\n",
      "[[Exploration](#2.-Exploration)]\n",
      "[[Spectral Features](#3.-Spectral-Features)]\n",
      "[[Spectral Profiles](#4.-Spectral-Profiles)]\n",
      "[[Enhancement](#5.-Enhancement)]\n",
      "[[Comparing Images](#6.-Comparing-Images)]\n",
      "[[More Exploring](#7.-More-Exploring)]\n",
      "[[Summary](#8.-Summary)]"
     ]
    },
    {
     "cell_type": "heading",
     "level": 2,
     "metadata": {},
     "source": [
      "Data"
     ]
    },
    {
     "cell_type": "markdown",
     "metadata": {},
     "source": [
      "The datasets you need for this practical are available from:\n",
      "\n",
      "\n",
      "* [ETM-190600](https://github.com/profLewis/geog2021/blob/master/practical1/ETM-190600)\n",
      "* [ETM-190600.HDR](https://github.com/profLewis/geog2021/blob/master/practical1/ETM-190600.HDR)\n",
      "* [TM-280589](https://github.com/profLewis/geog2021/blob/master/practical1/TM-280589)\n",
      "* [TM-280589.HDR](https://github.com/profLewis/geog2021/blob/master/practical1/TM-280589.HDR)\n",
      "\n",
      "\n",
      "You should download these data and put them in a directory (folder) that you will remember!\n",
      "\n",
      "The data you will be using are:\n",
      "\n",
      "* six wavebands of a Landsat TM image over Greater London, imaged on May 28th 1989. The data were obtained from the GLCF which maintains a large database of (freely available) Landsat and other imagery. The data are at an original pixel spacing of 28.5 m, but have been resampled to a 25 m grid here. The data are in a Transverse Mercator projection with OSGB 1936 datum. \n",
      "\n",
      "* six wavebands (nominally the same wavelengths) of a Landsat ETM image with 25 m spatial resolution, covering the same spatial extent. These data were obtained on June 19th 2000. The data were obtained from Landmap which contains a database available to Universities and other users through an Athens login (done via the institution you are at). \n",
      "\n",
      "The wavebands are:\n",
      "\n",
      "|1|2|3|4|5|6|\n",
      "| --- | --- | --- | --- | --- | --- |\n",
      "|450-520 nm|520-600 nm| 630-690 nm|760-900 nm|1550-1750 nm|2080-2350 nm|\n",
      "\n",
      "The extent of the imagery is (Lat/Lon): \n",
      "\n",
      "$$\n",
      "    51^o 43'   9.23'' North, 0^o 36' 18.37'' West \n",
      "$$\n",
      "\n",
      "to\n",
      "\n",
      "\n",
      "$$\n",
      "    51^o 16' 29.32'' North,  0^o 27' 24.60'' East\n",
      "$$\n"
     ]
    },
    {
     "cell_type": "heading",
     "level": 2,
     "metadata": {},
     "source": [
      " 1. Introduction"
     ]
    },
    {
     "cell_type": "markdown",
     "metadata": {},
     "source": [
      "***In this section, we will learn how to do a one time setup of the ENVI preferences and to load a false colour composite image***."
     ]
    },
    {
     "cell_type": "markdown",
     "metadata": {},
     "source": [
      "\n",
      "The purpose of this practical is for you to gain experience in image display and enhancement of EO data. The session will be normally run as two two hour supervised practical. You may not complete all tasks in detail in that time, so once you get the hang of how to use the tool, move on to the next section and return later to think more about the remote sensing. \n",
      "\n",
      "If you are doing this exercise in the departmental UNIX lab, you will be using a UNIX workstation, and [may find knowledge of some basic Unix useful](BasicUnixFileMgr.html). These notes are not intended to be a comprehensive introduction to ENVI functionality. They serve as an introduction to remote sensing and image processing, presuming no prior knowedge. Further information on envi tools and fuctions can be found in the on-line help pages. "
     ]
    },
    {
     "cell_type": "markdown",
     "metadata": {},
     "source": [
      "If you have started up `ENVI` and the license server is functioning correctly, you should initially see the following (large) window (`ENVI 5.2`)."
     ]
    },
    {
     "cell_type": "markdown",
     "metadata": {},
     "source": [
      "![text](images/screen1.jpg)"
     ]
    },
    {
     "cell_type": "markdown",
     "metadata": {},
     "source": [
      "The top bar has various menu items:"
     ]
    },
    {
     "cell_type": "markdown",
     "metadata": {},
     "source": [
      "![text](images/topbar.png)"
     ]
    },
    {
     "cell_type": "markdown",
     "metadata": {},
     "source": [
      "The first time you use the tool, you may find it convenient to update the default data location.\n",
      "\n",
      "You can access this via the `File->Preferences` menu.\n",
      "\n",
      "![text](images/prefs.png)"
     ]
    },
    {
     "cell_type": "markdown",
     "metadata": {},
     "source": [
      "Typically, we will want to change the `Input Directory` and `Output Directory` to where you are currently working, \n",
      "\n",
      "e.g. `/Users/plewis/geog2021/data` on a Mac, or `/home/ucfalew/DATA/geog2021/data` or similar on the UCL system.\n",
      "\n",
      "*Make a note of where your image data are*, so that you can find them the next time!\n",
      "\n",
      "You should now be able to open an image dataset (do not select the `HDR` files as these are header files).\n",
      "\n",
      "![text](images/open1.png)\n",
      "\n",
      "Opening an image file should result in the `Data Manager` being opened:\n",
      "\n",
      "![text](images/open.png)\n",
      "\n",
      "From which you can select one or more 'bands' to open and assign to the red, green and blue colour guns.\n",
      "\n",
      "![text](images/datargb.png)\n",
      "\n",
      "This example should load a **False Colour Composite** of the image dataset."
     ]
    },
    {
     "cell_type": "heading",
     "level": 2,
     "metadata": {},
     "source": [
      "2. Exploration"
     ]
    },
    {
     "cell_type": "markdown",
     "metadata": {},
     "source": [
      "***In this section, we use various tools for exploring the image***.\n",
      "\n",
      "* Once you have loaded an image, explore how to pan and zoom around the image\n",
      "* Whilst doing this, examine some of the features you see in the image:\n",
      "    + Find the `crosshairs` (and/or `cursor value`) icon on the tool bar, and explore the geographical coordinates and the digital number (DN) in the three wavebands you are examining.\n",
      "        + how could you check that the geographic coordinates seem sensible?\n",
      "        + try to relate the visual cues you see in the data to the DN values being shown\n",
      "        + use these ideas to interpret 'colour' as displayed in the image\n",
      "            + e.g. what does the 'red' colour *mean* and why is it so?\n",
      "* Find out how to `Change RGB bands ...` for the image you are viewing and use this to display e.g. a real colour composite.\n",
      "    + Try some different band combinations and make sure you can interpret the colour you see\n",
      "    + What happens if you put the same band onto R G and B? why?\n",
      "* Explore using the brightness and contrast sliders\n",
      "    + try to understand why the operation produces the results you get\n",
      "\n",
      "\n",
      "***Make sure you make notes of what you have done and how you have done it so you can recall this later.***"
     ]
    },
    {
     "cell_type": "heading",
     "level": 2,
     "metadata": {},
     "source": [
      "3. Spectral Features"
     ]
    },
    {
     "cell_type": "markdown",
     "metadata": {},
     "source": [
      "***In this section, we will learn how to consider spectral features and perform contrast enhancement***.\n",
      "\n",
      "Clearly, we can 'recognise' much information in the image from spatial context.\n",
      "\n",
      "![](images/rgb.jpg)\n",
      "\n",
      "But there are other ways we can visualise the data to aid our interpretation. \n",
      "\n",
      "For example, if we select the `Custom stretch` button: ![custom](images/custom.png)\n",
      "\n",
      "then we obtain a histogram view of the data, within which we can apply a contrast stretch by 'moving' the upper and lower thresholds.\n",
      "\n",
      "\n",
      "For greyscale:\n",
      "\n",
      "![hist](images/hist.png)\n",
      "\n",
      "or three band colour:\n",
      "\n",
      "![hist](images/hist1.png)"
     ]
    },
    {
     "cell_type": "markdown",
     "metadata": {},
     "source": [
      "This can be useful both for performing a contrast stretch\n",
      "\n",
      "***experiment with this so that you understand what the linear contrast enhancement is doing to the image DN*** You may find it useful to save some historgrams and images and put these in your notes.\n",
      "\n",
      "It is also of value in visualising the features of the histogram. The histogram shows the frequency of occurrence of the different DNs in the image. For example in the image above, we can describe the blue waveband histogram (shown in blue) as having two clear peaks and a long positive tail. The two peaks are most likely indicative of different land cover classes. The fact that there is a long positive tail may show a third 'bright' class present.\n",
      "\n",
      "***explore the histograms shown by some of the wavebands you have access to here***\n",
      "\n",
      "As you do this, think about the relationship between the informations shown in the image and that in the histogram. \n",
      "\n",
      "* How could you try to use the histogram to perform a classification on the image into different land cover classes?\n",
      "* What issues might you come across?\n",
      "* Do some bands show better separatbility than others? if so, which (and why?)\n",
      "* A histogram is a useful way of summarising the information in an image. In fact, we will often use even simpler descriptors to decsribe a frequency distribution such as this, one example being the *mean* and *standard deviation*. Would it be a good idea to describe these histograms in this way? If not, why not?"
     ]
    },
    {
     "cell_type": "markdown",
     "metadata": {},
     "source": [
      "One way of extending our view of such summary data is to use a scatter plot (often called a 'feature space' plot).\n",
      "\n",
      "***locate the scatter plot button, and display a scatter plot with the red waveband on the x axis and the NIR on the y axis***\n",
      "\n",
      "![](images/scatter.png)"
     ]
    },
    {
     "cell_type": "markdown",
     "metadata": {},
     "source": [
      "You should see that you are able to define ('draw') regions onto the scatter plot, and the pixels within this specified region are then displayed in the defined colour on the image:\n",
      "\n",
      "![](images/scatter1.png)\n",
      "\n",
      "![](images/scatter1a.jpg)\n",
      "\n",
      "***You should spend some time exploring this for different wavebands, as this concept forms the basis of many remote sensing algorithms (particularly those for classification)***\n",
      "\n",
      "As you do this, think about how the scatter plot and histogram information are related and also think about how you might get the computer to *describe* the regions you have drawn in the feature space plot.\n",
      "\n",
      "Think also about how using only one or two wavebands may be a limiting factor in classification (i.e. there is often information in other bands that may allow separability)."
     ]
    },
    {
     "cell_type": "heading",
     "level": 2,
     "metadata": {},
     "source": [
      "4. Spectral Profiles"
     ]
    },
    {
     "cell_type": "markdown",
     "metadata": {},
     "source": [
      "***In this section, we will learn how to do plot spectral profiles***.\n",
      "\n",
      "Although we can display (up to) three bands of information in a colour composite, we often wish to know more information.\n",
      "\n",
      "The various `Display->Profiles` tools can help in this regard as we can look at the DN in all wavebands (for a particular pixel).\n",
      "\n",
      "The following show some example spectral profiles:\n",
      "\n",
      "![Profile 1](images/spec1.png)\n",
      "\n",
      "![Profile 2](images/spec2.png)\n",
      "\n",
      "![Profile 3](images/spec3.png)\n",
      "\n",
      "**See if you can navigate your way to these locations and/or work out what 'material' is shown by the spectral profile**."
     ]
    },
    {
     "cell_type": "heading",
     "level": 2,
     "metadata": {},
     "source": [
      "5. Enhancement"
     ]
    },
    {
     "cell_type": "markdown",
     "metadata": {},
     "source": [
      "***In this section, we will learn how to perform a variety of enhancement tasks***.\n",
      "\n",
      "We have seen that ENVI has simple image display enhancement capabilities such as 'brightness' and 'contrast' variation via contrtol sliders.\n",
      "\n",
      "These are often useful first pass enhancement tools to enable you to more readily visualise features in the image.\n",
      "\n",
      "Several 'automated' or semi-automated approaches also exist that may provide a useful enhancement under certain conditions. \n",
      "\n",
      "These are available via a menu as:\n",
      "\n",
      "![](images/histlist.png)\n",
      "\n",
      "For example,histogram equalisation is generally a useful visual enhancement method:\n",
      "\n",
      "![](images/nohist.png)\n",
      "![](images/histo1.png)\n",
      "\n",
      "\n",
      "\n",
      "\n",
      "![](images/histapp.png)"
     ]
    },
    {
     "cell_type": "markdown",
     "metadata": {},
     "source": [
      "***Explore the impact of various enhancement operations***\n",
      "\n",
      "You may find it easiest to do this using a 'greyscale' representation (so there is just a single waveband to think about).\n",
      "\n",
      "Think about how the different enhancements relate to the information in the histogram.\n",
      "\n",
      "***In particular, explore how you can use image enhancement to more readily differentiate different DN levels in a particular area of the image (e.g. the river)***"
     ]
    },
    {
     "cell_type": "markdown",
     "metadata": {},
     "source": [
      "Another form of enhancement is to make use of *colour* to differentiate different DNs. We call such an enhancement 'pseudocolour' (note that this is very different to false colour or real colour: make sure you understand the distinction).\n",
      "\n",
      "To examine this idea, load a greyscale image of the ETM dataset.\n",
      "\n",
      "Then change the colour table, for exaple to 'rainbow':\n",
      "\n",
      "![](images/pseudo.png)\n",
      "\n",
      "![](images/colour.png)\n",
      "\n",
      "\n",
      "You should be able to use the histogram `custom stretch` facility to expand or compress the colour range or use different 'colours' to examine particular features in more detail (e.g. paths in parks, or features in the river).\n",
      "\n",
      "![](images/colour1.png)\n",
      "\n",
      "That said, analysis using greyscale is often easier to interpret, with appropriate enhancement:\n",
      "\n",
      "\n",
      "![](images/grey.png)\n",
      "\n"
     ]
    },
    {
     "cell_type": "heading",
     "level": 2,
     "metadata": {},
     "source": [
      "6. Comparing Images"
     ]
    },
    {
     "cell_type": "markdown",
     "metadata": {},
     "source": [
      "***In this section, we will examine some tools to use when comparing images***.\n",
      "\n",
      "Often, we wish to compare features from more than one image (e.g. Landsat images taken over an interval of time).\n",
      "\n",
      "There are several tools for exploring this in ENVI.\n",
      "\n",
      "First, remove the current loaded images from ENVI (Note down how you do this!), then load two dataset `ETM-190600` and `TM-280589` as fasle colour composites.\n",
      "\n",
      "One immediately obvious thing you can do is simply toggle each dataset `'on` and '`off` once it is loaded (using the dataset check box).\n",
      "\n",
      "You can use tools we have seen above, such as the scatterplot to visualise the scatter between the two datasets:\n",
      "\n",
      "![](images/two.png)\n",
      "\n",
      "You can also very usefully 'draw' on this scatterplot to identify interesting features:\n",
      "\n",
      "![](images/pink.png)"
     ]
    },
    {
     "cell_type": "heading",
     "level": 3,
     "metadata": {},
     "source": [
      "Transparency"
     ]
    },
    {
     "cell_type": "markdown",
     "metadata": {},
     "source": [
      "Another option is to use the transparency slider ![](images/trans.png) to give different 'weights' of the two datasets. This might be useful, for instance to spot features that have changed between the two image dates:\n",
      "\n",
      "![](images/z1.png)\n",
      "\n",
      "![](images/z2.png)\n",
      "\n"
     ]
    },
    {
     "cell_type": "heading",
     "level": 3,
     "metadata": {},
     "source": [
      "Swipe and Flicker"
     ]
    },
    {
     "cell_type": "markdown",
     "metadata": {},
     "source": [
      "Sometimes it is useful to 'flicker' between the various images or swipe one over the other to spot features of (change) interest.\n",
      "\n",
      "These can be done using the appropriate buttons on the command bar:\n",
      "\n",
      "![](images/flk.png)\n",
      "\n",
      "![](images/swipe.png)"
     ]
    },
    {
     "cell_type": "heading",
     "level": 3,
     "metadata": {},
     "source": [
      "Views"
     ]
    },
    {
     "cell_type": "markdown",
     "metadata": {},
     "source": [
      "One other option is to change the number of 'views' on the screen display:\n",
      "\n",
      "![](images/views.png)\n",
      "\n",
      "This will create new 'views':\n",
      "\n",
      "![](images/view2.png)\n",
      "\n",
      "And you can drag and drop loaded datasets to the particular view you want.\n",
      "\n",
      "***Use these various comparison tools to highlight areas of difference between the two images***"
     ]
    },
    {
     "cell_type": "heading",
     "level": 2,
     "metadata": {},
     "source": [
      "7. More Exploring"
     ]
    },
    {
     "cell_type": "markdown",
     "metadata": {},
     "source": [
      "Some other interesting options to explore:\n",
      "\n",
      "### Annotation\n",
      "\n",
      "On the control bar, you should see options for annotating the image. Experiment with annotating the image for a few features and work out how to save a 'picture' of what you have done (e.g. `File -> Chip view to-> File ...`):\n",
      "\n",
      "![chip](images/chip.jpg)\n",
      "\n",
      "### Google Earth\n",
      "\n",
      "If you have tools such as [Google Earth](http://www.google.co.uk/intl/en_uk/earth/) set up on the computer you are using, try `File->Chip view to->Google Earth`\n",
      "\n",
      "![googlr earth](images/google.png)"
     ]
    },
    {
     "cell_type": "heading",
     "level": 2,
     "metadata": {},
     "source": [
      "8. Summary"
     ]
    },
    {
     "cell_type": "markdown",
     "metadata": {},
     "source": [
      "The main aim of this practical is to get you used to using the image processing software tool `envi`.\n",
      "\n",
      "In this practical, we have loaded two Landsat images of London and used various tools within `envi` to visualise the data and their information content.\n",
      "\n",
      "In particular, we have learned about:\n",
      "\n",
      "* Image Display\n",
      "    * False Colour Composites\n",
      "    * Real Colour Composites\n",
      "    * Greyscale display\n",
      "    * Pseudocolour\n",
      "    * Spectral profiles\n",
      "\n",
      "\n",
      "* Feature Space\n",
      "    * Histograms\n",
      "    * Scatterplots\n",
      "    \n",
      "    \n",
      "* Enhancement\n",
      "    * Linear contrast enhancement\n",
      "    * Histogram equalisation\n",
      "    \n",
      "[[top](#Image-Display-and-Enhancement-using-ENVI-5.2)]\n",
      "[[Introduction](#1.-Introduction)]\n",
      "[[Exploration](#2.-Exploration)]\n",
      "[[Spectral Features](#3.-Spectral-Features)]\n",
      "[[Spectral Profiles](#4.-Spectral-Profiles)]\n",
      "[[Enhancement](#5.-Enhancement)]\n",
      "[[Comparing Images](#6.-Comparing-Images)]\n",
      "[[More Exploring](#7.-More-Exploring)]\n",
      "[[Summary](#8.-Summary)]"
     ]
    }
   ],
   "metadata": {}
  }
 ]
}
