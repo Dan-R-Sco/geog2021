![](media/image1.png)

**Objectives**

-   To introduce band ratioing techniques.

-   To learn about image convolution filtering techniques.

**Part I - Band Ratioing**

**Calibrated Airborne Spectrographic Imager (CASI)-2 Image**

> ![](media/image2.png)

Band ratioing is a process by which brightness values of pixels in one
band are divided by the brightness values of the corresponding pixels in
another band in order to create a new output image. These ratios may
enhance or subdue certain attributes found in the image, depending on
the spectral characteristics of the two bands chosen. Begin by
displaying the *swift\_casi\_2000-07-01\_subset.img* image using RGB =
9, 5, 2 with the **No Stretch** option checked.

Go to |**Raster** | **Scientific** | **Functions** | **Two Image
Functions** |. In the two empty input windows select
*swift\_casi\_2000-07-01\_subset.img* as the image and in the empty
output window add a filename of your choice. Under the input files,
select the bands you wish to use. For instance, if you wanted to do a
9/5 band ratio you would select layer 9 for input file \#1 and layer 5
for input file \#2. Select the **Operator** to be used, in this case the
division symbol. Leave all other fields in their default values. Select
**OK** in the **Two Input Operators** window. Do this for each of the
ratios listed below, being sure to give them an easily distinguishable
name:

> 1\) Band 9 / Band 5
>
> 2\) Band 10 / Band 1
>
> 3\) Band 11 / Band 2

To combine these into one raster file so that they can be viewed as a
three-layer image, it is necessary to next select |**Raster** |
**Spectral** **| Layer Stack** |. Place the first ratio image (9/5) that
you created in the **Input File** space by clicking on the open file
button and give the **Output File** a name such as
*swift\_ratio\_layerstack.img*. Now click on the **Add** button and you
should see the path and name of the first ratio image in the window.
**DON'T** click **OK** until you have entered all three images. Go to
the **Input File** again, but this time add the name of the second ratio
image (10/1). Select **Add** and complete the process by adding the last
ratio image (11/2). If you make a mistake, just click the clear button
and start over. Leave all other fields in their default settings. Once
you see all three files in the window you may now click **OK**.

You can now display the new ratio layer stack image as a color composite
as well as viewing the three individual ratio layers independently if
you wish. Go to the top left most icon and select |**New** **| 2D
View**| five times and open the layer stack in each of the windows
highlighting individual band ratios. An example is shown below:

![](media/image3.png)

1)  **Turn in a brief statement about the type of information
    specifically highlighted in each of the band ratios:**

> **9 / 5 Ratio**
>
> **10 / 1 Ratio**
>
> **11 / 2 Ratio**
>
> **2) Using band ratioing techniques, does a high or low correlation
> between bands highlight useful information? Why?**
>
> **3) Based on the band ratios you created, which one most enhanced
> vegetation and vegetation differences?**

**\
**

**Part II Image Filtering**

**Landsat Thematic Mapper Image**

> ![](media/image4.png)

This section of the exercise focuses on image filtering and uses the
Landsat TM image of the Santee River in South Carolina: *santee.img*.
You will select a subset (portion) of the *santee.img* and apply a
series of filters to it. To best appreciate the effects of these
techniques you should choose and subset an area that has a variety of
lines or edges present (i.e. the edge of a forest, road, wetland
boundary, land/water boundary, etc.). You might want to create a
separate folder to store all of the files you create in this part of the
exercise.

If you have forgotten how to subset the image, here are the steps. Make
sure the entire *santee.img* is displayed in a viewer and select the
right mouse button (rmb) inside the viewer to bring up the **Quick
View** utility menu. In the **Quick View** menu select **Inquire Box**.
In the menu that appears change the map coordinates to file coordinates.
The white box that Imagine places over the image shows the extent of the
area that will be subset. You can move the box without changing its
dimensions by placing the cursor inside the white box and, while holding
down the left-mouse-button (*lmb*), moving the box to another location.
You can change the dimensions of the box by holding down the *lmb* while
the cursor arrow is on an edge or side of the box and, then dragging the
cursor around (the box should follow). You can also change the
dimensions of the box by directly entering the row and column values in
the menu that appeared with the white box.

Once you have positioned your box in the area to be subset, click on the
**|Raster | Subset & Chip | Create Subset Image |.** Use the following
directions to fill in the appropriate menu choices and note that you
should make an individual subset for each band.

1)  Select *santee.img* as the input file.

2)  Name the output file (it might be helpful in keeping track with each
    of the many subsets you will do by using output filenames that are
    descriptive, e.g., santeeband1, sanband2, sband6, etc.).

3)  Select **Coordinate Type** equal to **File** then click on the
    button that says "**From Inquire Box**". Notice that your inquire
    box coordinates have been automatically included in the spaces that
    determine the boundary of the subset.

4)  In the lower part of the window find the words **Select Layers**. In
    the space to the right you will find the entry "1:6", this means
    layers 1 through 6 will be included in the subset (the default is to
    include all image layers). You want to extract each individual layer
    as a separate file, so change this entry to read only the desired
    layer (i.e. if you want to extract only layer 2, type 2 in the
    entry).

5)  Select **OK** and the subset process will begin.

Do this for each of the six bands (i.e., santee1.img, santee2.img,
santee3.img, etc.).

Now you will select the convolution filter type to use on the subsets.
Go to | **Raster** |**Spatial** | **Convolution** |. This opens a window
which allows you to select from a variety of existing convolution
matrices or create your own. The size of the matrix (3x3, 5x5, 7x7 etc.)
is also chosen here. To filter an image subset do the following:

1)  Select the input file for convolution (start with *santee1.img*).

2)  Enter an output file name for the resulting filtered image (it might
    help to include in the filename the type of filter that was used
    i.e. *santee4hpf3x3.img* meaning *santee.img*, band4 subset, high
    pass filter, and 3x3 for the matrix size).

3)  Under **Kernel** you have some default filter types and sizes
    available for use. Most of the kernels you will need can be found
    under this menu. To create your own filter, (you will need to do
    this for both the Laplacian and the compass gradient filter) select
    **New** below the **Kernel** window. An empty **Kernel** will open
    that has the title "(untitled)". Under **File**, in the **Kernel**
    window, select **Librarian**. The Kernel Librarian window will
    appear. Scroll to your directory if it is not already there (it
    probably is not) and type in the Library filename space a name for
    your own kernel library. An example would be **my\_kernel.klb**.
    When you have created your own kernel library make sure you give it
    a name and a description then click **Save**. Make it the active
    kernel library by selecting it. The kernel should automatically
    receive the name you specify into the Kernel Editor. You can modify
    the kernel simply by typing in the appropriate values in the cells
    in the Kernel Editor . When you are done with your changes select
    **Save** in the **Kernel Librarian** window and **Close** the
    window.

4)  Select the **Fill** option for **Handle Edges By**.

5)  Select the **OK** button and the filtering process will begin. Below
    are some examples of various types of convolution filtering applied
    to the Santee image.

![](media/image5.png)

Below are six types of filters that you will apply to each of the six
bands. Choose a feature of interest in the image and see how it changes
with the use of each filter. Use your knowledge of spectral reflectance
characteristics to answer the questions below.

> **1. A 3x3 Low-pass filter**
>
> **2. A 7x7 Low-pass filter**
>
> **3. A 3x3 Edge Enhancement filter**
>
> **4. A Laplacian filtered image using the following matrix values
> (note the similarity to a high-pass filter):**
>
> ![](media/image6.png)

**5. Any size High-Pass filter**

> **6. Design a Directional Compass Gradient filter to enhance lines
> running SW-NE (see the textbook for help).**

To answer the following questions it might be helpful to have each of
the filtered images and the composite image in viewers for quick
reference.

> **1) Which of the following would make an image more blurry? a) 3x3,
> or b) 7x7 Low-pass filter? Why?**
>
> **2) What edges are highlighted with the 3x3 Edge Enhancement? Is
> anything else enhanced as well?**
>
> **3) What does the Laplacian filter tend to enhance and/or suppress in
> the scene?**
>
> **4) What is the result of performing a High-Pass filter on an
> image?**

Create a map composition containing four images: choose any of the three
filtered images you created as well as an example of the image you
filtered with your uniquely designed filter. Be sure your map
composition has appropriate annotation information.

![](media/image7.png)
